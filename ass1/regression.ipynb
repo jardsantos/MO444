{
 "cells": [
  {
   "cell_type": "markdown",
   "metadata": {},
   "source": [
    "#### Importing libraries and the dataset:"
   ]
  },
  {
   "cell_type": "code",
   "execution_count": 1,
   "metadata": {
    "collapsed": true
   },
   "outputs": [],
   "source": [
    "import pandas as pd\n",
    "import numpy as np\n",
    "from sklearn.preprocessing import StandardScaler\n",
    "import matplotlib.pyplot as plt\n",
    "import operator\n",
    "from sklearn.decomposition import PCA"
   ]
  },
  {
   "cell_type": "code",
   "execution_count": 2,
   "metadata": {
    "collapsed": true
   },
   "outputs": [],
   "source": [
    "train = pd.read_csv('data/train.csv')\n",
    "test = pd.read_csv('data/test.csv')\n",
    "test_target = pd.read_csv('data/test_target.csv')"
   ]
  },
  {
   "cell_type": "markdown",
   "metadata": {},
   "source": [
    "### Info given on the dataset:\n",
    "<hr>\n",
    "#### Attribute Information:\n",
    "Number of Attributes: 61 (58 predictive attributes, 2 non-predictive, 1 goal field)\n",
    "<hr>\n",
    "#### Attribute Information:\n",
    "0. url: URL of the article (non-predictive)\n",
    "1. timedelta: Days between the article publication and the dataset acquisition (non-predictive)\n",
    "2. n_tokens_title: Number of words in the title\n",
    "3. n_tokens_content: Number of words in the content\n",
    "4. n_unique_tokens: Rate of unique words in the content\n",
    "5. n_non_stop_words: Rate of non-stop words in the content\n",
    "6. n_non_stop_unique_tokens: Rate of unique non-stop words in the content\n",
    "7. num_hrefs: Number of links\n",
    "8. num_self_hrefs: Number of links to other articles published by Mashable\n",
    "9. num_imgs: Number of images\n",
    "10. num_videos: Number of videos\n",
    "11. average_token_length: Average length of the words in the content\n",
    "12. num_keywords: Number of keywords in the metadata\n",
    "13. data_channel_is_lifestyle: Is data channel 'Lifestyle'?\n",
    "14. data_channel_is_entertainment: Is data channel 'Entertainment'?\n",
    "15. data_channel_is_bus: Is data channel 'Business'?\n",
    "16. data_channel_is_socmed: Is data channel 'Social Media'?\n",
    "17. data_channel_is_tech: Is data channel 'Tech'?\n",
    "18. data_channel_is_world: Is data channel 'World'?\n",
    "19. kw_min_min: Worst keyword (min. shares)\n",
    "20. kw_max_min: Worst keyword (max. shares)\n",
    "21. kw_avg_min: Worst keyword (avg. shares)\n",
    "22. kw_min_max: Best keyword (min. shares)\n",
    "23. kw_max_max: Best keyword (max. shares)\n",
    "24. kw_avg_max: Best keyword (avg. shares)\n",
    "25. kw_min_avg: Avg. keyword (min. shares)\n",
    "26. kw_max_avg: Avg. keyword (max. shares)\n",
    "27. kw_avg_avg: Avg. keyword (avg. shares)\n",
    "28. self_reference_min_shares: Min. shares of referenced articles in Mashable\n",
    "29. self_reference_max_shares: Max. shares of referenced articles in Mashable\n",
    "30. self_reference_avg_sharess: Avg. shares of referenced articles in Mashable\n",
    "31. weekday_is_monday: Was the article published on a Monday?\n",
    "32. weekday_is_tuesday: Was the article published on a Tuesday?\n",
    "33. weekday_is_wednesday: Was the article published on a Wednesday?\n",
    "34. weekday_is_thursday: Was the article published on a Thursday?\n",
    "35. weekday_is_friday: Was the article published on a Friday?\n",
    "36. weekday_is_saturday: Was the article published on a Saturday?\n",
    "37. weekday_is_sunday: Was the article published on a Sunday?\n",
    "38. is_weekend: Was the article published on the weekend?\n",
    "39. LDA_00: Closeness to LDA topic 0\n",
    "40. LDA_01: Closeness to LDA topic 1\n",
    "41. LDA_02: Closeness to LDA topic 2\n",
    "42. LDA_03: Closeness to LDA topic 3\n",
    "43. LDA_04: Closeness to LDA topic 4\n",
    "44. global_subjectivity: Text subjectivity\n",
    "45. global_sentiment_polarity: Text sentiment polarity\n",
    "46. global_rate_positive_words: Rate of positive words in the content\n",
    "47. global_rate_negative_words: Rate of negative words in the content\n",
    "48. rate_positive_words: Rate of positive words among non-neutral tokens\n",
    "49. rate_negative_words: Rate of negative words among non-neutral tokens\n",
    "50. avg_positive_polarity: Avg. polarity of positive words\n",
    "51. min_positive_polarity: Min. polarity of positive words\n",
    "52. max_positive_polarity: Max. polarity of positive words\n",
    "53. avg_negative_polarity: Avg. polarity of negative words\n",
    "54. min_negative_polarity: Min. polarity of negative words\n",
    "55. max_negative_polarity: Max. polarity of negative words\n",
    "56. title_subjectivity: Title subjectivity\n",
    "57. title_sentiment_polarity: Title polarity\n",
    "58. abs_title_subjectivity: Absolute subjectivity level\n",
    "59. abs_title_sentiment_polarity: Absolute polarity level\n",
    "60. <b>shares: Number of shares (target)</b>"
   ]
  },
  {
   "cell_type": "markdown",
   "metadata": {},
   "source": [
    "#### Delimiting the functions to work on the regressor"
   ]
  },
  {
   "cell_type": "code",
   "execution_count": 3,
   "metadata": {
    "collapsed": true
   },
   "outputs": [],
   "source": [
    "# Cost function\n",
    "def cost(y, yhat):\n",
    "    m = y.shape[0]\n",
    "    return ((1/(2*m))*np.sum(np.square(yhat - y)))"
   ]
  },
  {
   "cell_type": "code",
   "execution_count": 4,
   "metadata": {
    "collapsed": true
   },
   "outputs": [],
   "source": [
    "# Mean Absolute Error\n",
    "def mean_abs(y, yhat):\n",
    "    return (np.abs(yhat - y)).mean()"
   ]
  },
  {
   "cell_type": "code",
   "execution_count": 5,
   "metadata": {
    "collapsed": true
   },
   "outputs": [],
   "source": [
    "# Function that powers x in order to increase the linear regressor complexity\n",
    "def elevate_factors(x,n):\n",
    "    aux = x\n",
    "    for i in range(2,n+1):\n",
    "        x_elevated = np.power(x,i)\n",
    "        aux = np.concatenate((aux,x_elevated),axis=1)\n",
    "    return aux"
   ]
  },
  {
   "cell_type": "code",
   "execution_count": 6,
   "metadata": {
    "collapsed": true
   },
   "outputs": [],
   "source": [
    "def LR_check(x, y, iterations, a, l):\n",
    "    m = x.shape[0]\n",
    "    tetha = np.random.randn(x.shape[1])*0.01\n",
    "    tetha[0] = 0\n",
    "    iteration = []\n",
    "    cst = []\n",
    "    for i in range(iterations):\n",
    "        yhat = np.dot(tetha,x.transpose())\n",
    "        J = cost(y, yhat)\n",
    "        dtetha = (1/m)*(np.dot((yhat - y),x) + l*tetha)\n",
    "        tetha -= a*dtetha\n",
    "        cst.append(J)\n",
    "        iteration.append(i)\n",
    "    plt.plot(iteration, cst)\n",
    "    plt.title('Learning Rate = '+str(a)+' and Lambda = '+str(l))\n",
    "    plt.xlabel('Number of Iterations')\n",
    "    plt.ylabel('Total Cost')\n",
    "    plt.show()"
   ]
  },
  {
   "cell_type": "code",
   "execution_count": 7,
   "metadata": {
    "collapsed": true
   },
   "outputs": [],
   "source": [
    "def LR(x, y, iterations, a, l):\n",
    "    m = x.shape[0]\n",
    "    tetha = np.random.randn(x.shape[1])*0.01\n",
    "    tetha[0] = 0\n",
    "    cst = 10000000000\n",
    "    for i in range(iterations):\n",
    "        yhat = np.dot(tetha,x.transpose())\n",
    "        J = cost(y, yhat)\n",
    "        dtetha = (1/m)*(np.dot((yhat - y),x) + l*tetha)\n",
    "        tetha -= a*dtetha\n",
    "        if(J>100*cst):\n",
    "            break\n",
    "        else:\n",
    "            cst = J\n",
    "    return tetha"
   ]
  },
  {
   "cell_type": "code",
   "execution_count": 8,
   "metadata": {
    "collapsed": true
   },
   "outputs": [],
   "source": [
    "def NE(x, y, l):\n",
    "    ident_matrix = np.identity(np.shape(x)[1])\n",
    "    ident_matrix[0,:] = 0\n",
    "    A = np.dot(x.transpose(), x)+l*ident_matrix\n",
    "    A = np.linalg.pinv(A)\n",
    "    theta = np.dot(A,x.transpose())\n",
    "    theta = np.dot(theta,y)\n",
    "    return theta"
   ]
  },
  {
   "cell_type": "code",
   "execution_count": 9,
   "metadata": {
    "collapsed": true
   },
   "outputs": [],
   "source": [
    "def outliers_z_score(ys):\n",
    "    threshold = 3\n",
    "\n",
    "    mean_y = np.mean(ys)\n",
    "    stdev_y = np.std(ys)\n",
    "    z_scores = [(y - mean_y) / stdev_y for y in ys]\n",
    "    return np.where(np.abs(z_scores) > threshold)"
   ]
  },
  {
   "cell_type": "code",
   "execution_count": 10,
   "metadata": {
    "collapsed": true
   },
   "outputs": [],
   "source": [
    "def outliers_modified_z_score(ys):\n",
    "    threshold = 3\n",
    "\n",
    "    median_y = np.median(ys)\n",
    "    median_absolute_deviation_y = np.median([np.abs(y - median_y) for y in ys])\n",
    "    modified_z_scores = [0.6745 * (y - median_y) / median_absolute_deviation_y\n",
    "                         for y in ys]\n",
    "    return np.where(np.abs(modified_z_scores) > threshold)"
   ]
  },
  {
   "cell_type": "markdown",
   "metadata": {},
   "source": [
    "Detecting the outliers of the training set and removing it from the data."
   ]
  },
  {
   "cell_type": "code",
   "execution_count": 11,
   "metadata": {
    "collapsed": true
   },
   "outputs": [],
   "source": [
    "outliers = outliers_modified_z_score(train.shares.values)[0]\n",
    "train.drop(outliers, inplace=True)"
   ]
  },
  {
   "cell_type": "markdown",
   "metadata": {},
   "source": [
    "#### Some of the Models created:"
   ]
  },
  {
   "cell_type": "markdown",
   "metadata": {},
   "source": [
    "#### Model 1\n",
    "\n",
    "Using all the features that can be used, perform a increase in the linear regression complexity, normalization of the data and also create a vector of ones to use as the constant factor:"
   ]
  },
  {
   "cell_type": "code",
   "execution_count": 12,
   "metadata": {
    "collapsed": true
   },
   "outputs": [],
   "source": [
    "x_train = elevate_factors(train.drop(['shares','url', 'timedelta'], axis=1), 2)\n",
    "sc = StandardScaler()\n",
    "sc.fit(x_train)\n",
    "x_train = sc.transform(x_train)\n",
    "x_train = np.concatenate((np.ones((x_train.shape[0],1)),x_train),axis=1)\n",
    "y_train = train['shares'].values"
   ]
  },
  {
   "cell_type": "markdown",
   "metadata": {},
   "source": [
    "Checking if the values of the learning rate, lambda and also the number of iterations converge the cost function:"
   ]
  },
  {
   "cell_type": "code",
   "execution_count": 13,
   "metadata": {},
   "outputs": [
    {
     "data": {
      "image/png": "[encoded data removed]",
      "text/plain": [
       "<matplotlib.figure.Figure at 0x7fee6eba94e0>"
      ]
     },
     "metadata": {},
     "output_type": "display_data"
    }
   ],
   "source": [
    "LR_check(x_train,y_train,1000, 0.1, 0.5)"
   ]
  },
  {
   "cell_type": "markdown",
   "metadata": {},
   "source": [
    "Doing the Linear Regression and printing the Cost(MSE Error) and MAE Error of the training data:"
   ]
  },
  {
   "cell_type": "code",
   "execution_count": 14,
   "metadata": {},
   "outputs": [
    {
     "name": "stdout",
     "output_type": "stream",
     "text": [
      "Cost: 3.015902e+05\n",
      "Mean Absolute Error: 596.96\n"
     ]
    }
   ],
   "source": [
    "tetha = LR(x_train,y_train,1000, 0.1, 0.5)\n",
    "yhat_train = np.dot(tetha,x_train.transpose())\n",
    "print('Cost: %e' % (cost(y_train,yhat_train)))\n",
    "print('Mean Absolute Error: %.2f' % (mean_abs(y_train,yhat_train)))"
   ]
  },
  {
   "cell_type": "markdown",
   "metadata": {},
   "source": [
    "Getting the error on the test set:"
   ]
  },
  {
   "cell_type": "code",
   "execution_count": 15,
   "metadata": {},
   "outputs": [
    {
     "name": "stdout",
     "output_type": "stream",
     "text": [
      "Cost: 8.657318e+11\n",
      "Mean Absolute Error: 2609.21\n"
     ]
    }
   ],
   "source": [
    "x_test = elevate_factors(test.drop(['url','timedelta'], axis=1),2)\n",
    "x_test = sc.transform(x_test)\n",
    "x_test = np.concatenate((np.ones((x_test.shape[0],1)),x_test),axis=1)\n",
    "y_test = test_target.values\n",
    "yhat_test = np.dot(tetha,x_test.transpose())\n",
    "print('Cost: %e' % (cost(y_test,yhat_test)))\n",
    "print('Mean Absolute Error: %.2f' % (mean_abs(y_test,yhat_test)))"
   ]
  },
  {
   "cell_type": "markdown",
   "metadata": {},
   "source": [
    "#### Model 2\n",
    "\n",
    "Doing a forward elimination starting on the features with higher correlation on the target output"
   ]
  },
  {
   "cell_type": "code",
   "execution_count": 16,
   "metadata": {},
   "outputs": [
    {
     "data": {
      "text/plain": [
       "Index(['n_tokens_title', 'n_tokens_content', 'n_unique_tokens',\n",
       "       'n_non_stop_words', 'n_non_stop_unique_tokens', 'num_hrefs',\n",
       "       'num_self_hrefs', 'num_imgs', 'num_videos', 'average_token_length',\n",
       "       'num_keywords', 'data_channel_is_lifestyle',\n",
       "       'data_channel_is_entertainment', 'data_channel_is_bus',\n",
       "       'data_channel_is_socmed', 'data_channel_is_tech',\n",
       "       'data_channel_is_world', 'kw_min_min', 'kw_max_min', 'kw_avg_min',\n",
       "       'kw_min_max', 'kw_max_max', 'kw_avg_max', 'kw_min_avg', 'kw_max_avg',\n",
       "       'kw_avg_avg', 'self_reference_min_shares', 'self_reference_max_shares',\n",
       "       'self_reference_avg_sharess', 'weekday_is_monday', 'weekday_is_tuesday',\n",
       "       'weekday_is_wednesday', 'weekday_is_thursday', 'weekday_is_friday',\n",
       "       'weekday_is_saturday', 'weekday_is_sunday', 'is_weekend', 'LDA_00',\n",
       "       'LDA_01', 'LDA_02', 'LDA_03', 'LDA_04', 'global_subjectivity',\n",
       "       'global_sentiment_polarity', 'global_rate_positive_words',\n",
       "       'global_rate_negative_words', 'rate_positive_words',\n",
       "       'rate_negative_words', 'avg_positive_polarity', 'min_positive_polarity',\n",
       "       'max_positive_polarity', 'avg_negative_polarity',\n",
       "       'min_negative_polarity', 'max_negative_polarity', 'title_subjectivity',\n",
       "       'title_sentiment_polarity', 'abs_title_subjectivity',\n",
       "       'abs_title_sentiment_polarity'],\n",
       "      dtype='object')"
      ]
     },
     "execution_count": 16,
     "metadata": {},
     "output_type": "execute_result"
    }
   ],
   "source": [
    "correlation = train.corr().shares\n",
    "correlation.pop('shares')\n",
    "correlation.pop('timedelta')\n",
    "correlation.keys()"
   ]
  },
  {
   "cell_type": "markdown",
   "metadata": {},
   "source": [
    "Iteration for the forward elimination:"
   ]
  },
  {
   "cell_type": "code",
   "execution_count": 17,
   "metadata": {},
   "outputs": [
    {
     "name": "stdout",
     "output_type": "stream",
     "text": [
      "Final Features:\n",
      "['is_weekend' 'avg_positive_polarity' 'data_channel_is_bus'\n",
      " 'max_negative_polarity' 'avg_negative_polarity' 'min_negative_polarity']\n"
     ]
    }
   ],
   "source": [
    "x = pd.DataFrame()\n",
    "x_ = pd.DataFrame()\n",
    "error_min = 1000000000\n",
    "for i in range(correlation.shape[0]):\n",
    "    col = max(correlation.items(), key=operator.itemgetter(1))[0]\n",
    "    correlation.pop(col)\n",
    "    x[col] = train[col]\n",
    "    x_train = x.values\n",
    "    sc = StandardScaler()\n",
    "    sc.fit(x_train)\n",
    "    x_train = sc.transform(x_train)\n",
    "    x_train = np.concatenate((np.ones((x_train.shape[0],1)),x_train),axis=1)\n",
    "    y_train = train['shares'].values\n",
    "    tetha = LR(x_train, y_train, 1000,0.1,0.5)\n",
    "    yhat_train = np.dot(tetha,x_train.transpose())\n",
    "    x_[col] = test[col]\n",
    "    x_test = x_.values\n",
    "    x_test = sc.transform(x_test)\n",
    "    x_test = np.concatenate((np.ones((x_test.shape[0],1)),x_test),axis=1)\n",
    "    y_test = test_target.values\n",
    "    yhat_test = np.dot(tetha,x_test.transpose())\n",
    "    error = mean_abs(y_test,yhat_test)\n",
    "    if (error > error_min):\n",
    "        x.drop(col, axis=1, inplace=True)\n",
    "        x_.drop(col, axis=1, inplace=True)\n",
    "    else:\n",
    "        error_min = error\n",
    "    final_feats = np.array(x.columns)\n",
    "print('Final Features:')\n",
    "print(final_feats)"
   ]
  },
  {
   "cell_type": "markdown",
   "metadata": {},
   "source": [
    "Training the model on the features of the forward elimination:"
   ]
  },
  {
   "cell_type": "code",
   "execution_count": 18,
   "metadata": {
    "collapsed": true
   },
   "outputs": [],
   "source": [
    "x_train = train[final_feats].values\n",
    "x_train = elevate_factors(x_train, 2)\n",
    "sc = StandardScaler()\n",
    "sc.fit(x_train)\n",
    "x_train = sc.transform(x_train)\n",
    "x_train = np.concatenate((np.ones((x_train.shape[0],1)),x_train),axis=1)\n",
    "y_train = train['shares'].values"
   ]
  },
  {
   "cell_type": "markdown",
   "metadata": {},
   "source": [
    "Checking the number of iterations, learning rate and lambda:"
   ]
  },
  {
   "cell_type": "code",
   "execution_count": 19,
   "metadata": {},
   "outputs": [
    {
     "data": {
      "image/png": "[encoded data removed]",
      "text/plain": [
       "<matplotlib.figure.Figure at 0x7fee6e4b8b38>"
      ]
     },
     "metadata": {},
     "output_type": "display_data"
    }
   ],
   "source": [
    "LR_check(x_train,y_train,1000, 0.1, 0.5)"
   ]
  },
  {
   "cell_type": "markdown",
   "metadata": {},
   "source": [
    "Doing the Linear Regression and printing the Cost(MSE Error) and MAE Error of the training data:"
   ]
  },
  {
   "cell_type": "code",
   "execution_count": 20,
   "metadata": {},
   "outputs": [
    {
     "name": "stdout",
     "output_type": "stream",
     "text": [
      "Cost: 3.388065e+05\n",
      "Mean Absolute Error: 646.91\n"
     ]
    }
   ],
   "source": [
    "tetha = LR(x_train,y_train,1000, 0.1, 0.5)\n",
    "yhat_train = np.dot(tetha,x_train.transpose())\n",
    "print('Cost: %e' % (cost(y_train,yhat_train)))\n",
    "print('Mean Absolute Error: %.2f' % (mean_abs(y_train,yhat_train)))"
   ]
  },
  {
   "cell_type": "markdown",
   "metadata": {},
   "source": [
    "Getting the error on the test set:"
   ]
  },
  {
   "cell_type": "code",
   "execution_count": 21,
   "metadata": {},
   "outputs": [
    {
     "name": "stdout",
     "output_type": "stream",
     "text": [
      "Cost: 8.658309e+11\n",
      "Mean Absolute Error: 2582.05\n"
     ]
    }
   ],
   "source": [
    "x_test = test[final_feats].values\n",
    "x_test = elevate_factors(x_test, 2)\n",
    "x_test = sc.transform(x_test)\n",
    "x_test = np.concatenate((np.ones((x_test.shape[0],1)),x_test),axis=1)\n",
    "y_test = test_target.values\n",
    "yhat_test = np.dot(tetha,x_test.transpose())\n",
    "print('Cost: %e' % (cost(y_test,yhat_test)))\n",
    "print('Mean Absolute Error: %.2f' % (mean_abs(y_test,yhat_test)))"
   ]
  },
  {
   "cell_type": "markdown",
   "metadata": {},
   "source": [
    "Performing Normal Equations on the forward propagation model to compare the errors:"
   ]
  },
  {
   "cell_type": "code",
   "execution_count": 22,
   "metadata": {
    "collapsed": true
   },
   "outputs": [],
   "source": [
    "x_train = train[final_feats].values\n",
    "x_train = elevate_factors(x_train, 1)\n",
    "sc = StandardScaler()\n",
    "sc.fit(x_train)\n",
    "x_train = sc.transform(x_train)\n",
    "x_train = np.concatenate((np.ones((x_train.shape[0],1)),x_train),axis=1)\n",
    "y_train = train['shares'].values"
   ]
  },
  {
   "cell_type": "code",
   "execution_count": 23,
   "metadata": {},
   "outputs": [
    {
     "name": "stdout",
     "output_type": "stream",
     "text": [
      "Cost: 3.388450e+05\n",
      "Mean Absolute Error: 646.92\n"
     ]
    }
   ],
   "source": [
    "tetha = NE(x_train,y_train,0.5)\n",
    "yhat_train = np.dot(tetha,x_train.transpose())\n",
    "print('Cost: %e' % (cost(y_train,yhat_train)))\n",
    "print('Mean Absolute Error: %.2f' % (mean_abs(y_train,yhat_train)))"
   ]
  },
  {
   "cell_type": "code",
   "execution_count": 24,
   "metadata": {},
   "outputs": [
    {
     "name": "stdout",
     "output_type": "stream",
     "text": [
      "Cost: 8.658685e+11\n",
      "Mean Absolute Error: 2581.66\n"
     ]
    }
   ],
   "source": [
    "x_test = test[final_feats].values\n",
    "x_test = elevate_factors(x_test, 1)\n",
    "sc = StandardScaler()\n",
    "sc.fit(x_test)\n",
    "x_test = sc.transform(x_test)\n",
    "x_test = np.concatenate((np.ones((x_test.shape[0],1)),x_test),axis=1)\n",
    "y_test = test_target.values\n",
    "yhat_test = np.dot(tetha,x_test.transpose())\n",
    "print('Cost: %e' % (cost(y_test,yhat_test)))\n",
    "print('Mean Absolute Error: %.2f' % (mean_abs(y_test,yhat_test)))"
   ]
  },
  {
   "cell_type": "code",
   "execution_count": null,
   "metadata": {
    "collapsed": true
   },
   "outputs": [],
   "source": []
  }
 ],
 "metadata": {
  "kernelspec": {
   "display_name": "Python 3",
   "language": "python",
   "name": "python3"
  },
  "language_info": {
   "codemirror_mode": {
    "name": "ipython",
    "version": 3
   },
   "file_extension": ".py",
   "mimetype": "text/x-python",
   "name": "python",
   "nbconvert_exporter": "python",
   "pygments_lexer": "ipython3",
   "version": "3.5.3"
  }
 },
 "nbformat": 4,
 "nbformat_minor": 2
}
