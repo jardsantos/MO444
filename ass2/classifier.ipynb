{
 "cells": [
  {
   "cell_type": "code",
   "execution_count": 626,
   "metadata": {},
   "outputs": [],
   "source": [
    "import pandas as pd\n",
    "import numpy as np\n",
    "from skimage.feature import local_binary_pattern\n",
    "import cv2\n",
    "from imutils import paths\n",
    "import time\n",
    "from sklearn.linear_model import LogisticRegression\n",
    "from sklearn.neighbors import KNeighborsClassifier\n",
    "from sklearn.model_selection import KFold\n",
    "from sklearn.neural_network import MLPClassifier\n",
    "from sklearn.svm import SVC\n",
    "from skimage.restoration import denoise_wavelet\n",
    "from scipy.stats import moment\n",
    "import pywt\n",
    "from sklearn.preprocessing import StandardScaler\n",
    "from sklearn.decomposition import PCA\n",
    "from sklearn.discriminant_analysis import LinearDiscriminantAnalysis as LDA\n",
    "from sklearn.metrics import confusion_matrix\n",
    "from scipy.stats import mode\n",
    "import random\n",
    "from sklearn.model_selection import train_test_split\n",
    "from sklearn.metrics import accuracy_score\n",
    "import seaborn as sns\n",
    "from matplotlib import pyplot as plt"
   ]
  },
  {
   "cell_type": "code",
   "execution_count": 589,
   "metadata": {},
   "outputs": [],
   "source": [
    "def adjust_gamma(image, gamma=1.0):\n",
    "    # build a lookup table mapping the pixel values [0, 255] to\n",
    "    # their adjusted gamma values\n",
    "    invGamma = 1.0 / gamma\n",
    "    table = np.array([((i / 255.0) ** invGamma) * 255 for i in np.arange(0, 256)]).astype(\"uint8\")\n",
    "\n",
    "    # apply gamma correction using the lookup table\n",
    "    return cv2.LUT(image, table)"
   ]
  },
  {
   "cell_type": "code",
   "execution_count": 590,
   "metadata": {},
   "outputs": [],
   "source": [
    "def random_alter(image):\n",
    "    i = random.randint(1,8)\n",
    "    if i == 1:\n",
    "        return (0, image)\n",
    "    if i == 2:\n",
    "        cv2.imwrite('image.jpg', image, [cv2.IMWRITE_JPEG_QUALITY, 70])\n",
    "        return (1,cv2.imread('image.jpg'))\n",
    "    if i == 3:\n",
    "        cv2.imwrite('image.jpg', image, [cv2.IMWRITE_JPEG_QUALITY, 90])\n",
    "        return (1,cv2.imread('image.jpg'))\n",
    "    if i == 4:\n",
    "        return (1,cv2.resize(image,None,fx=0.5, fy=0.5, interpolation = cv2.INTER_CUBIC))\n",
    "    if i == 5:\n",
    "        return (1,cv2.resize(image,None,fx=0.8, fy=0.8, interpolation = cv2.INTER_CUBIC))\n",
    "    if i == 6:\n",
    "        return (1,cv2.resize(image,None,fx=1.5, fy=1.5, interpolation = cv2.INTER_CUBIC))\n",
    "    if i == 7:\n",
    "        return (1,cv2.resize(image,None,fx=2.0, fy=2.0, interpolation = cv2.INTER_CUBIC))\n",
    "    if i == 8:\n",
    "        return (1,adjust_gamma(image,gamma=0.8))\n",
    "    if i == 9:\n",
    "        return (1,adjust_gamma(image,gamma=1.2))      "
   ]
  },
  {
   "cell_type": "code",
   "execution_count": 586,
   "metadata": {},
   "outputs": [],
   "source": [
    "def winVar(img, wlen):\n",
    "  wmean, wsqrmean = (cv2.boxFilter(x, -1, (wlen, wlen), borderType=cv2.BORDER_REFLECT) for x in (img, img*img))\n",
    "  return wsqrmean - wmean*wmean"
   ]
  },
  {
   "cell_type": "code",
   "execution_count": 3,
   "metadata": {},
   "outputs": [],
   "source": [
    "def _denoise_band(X, wavelet, levels, alpha):\n",
    "#     from var_est import variance\n",
    "\n",
    "    if alpha is None:\n",
    "        alpha = 2\n",
    "\n",
    "    decomp = pywt.wavedec2(X, wavelet, level=levels)\n",
    "    for i, all_coeff in enumerate(decomp[1:]):\n",
    "        minvar = np.empty(all_coeff[0].shape, dtype=float)\n",
    "        minvar.fill(np.inf)\n",
    "        # Handle horizontal, vertical and diagonal coefficients\n",
    "        for coeff in all_coeff:\n",
    "            for win_size in (3, 5, 7, 9):\n",
    "                var = winVar(coeff, win_size)\n",
    "                mask = (var < minvar)\n",
    "                minvar[mask] = var[mask]\n",
    "\n",
    "            # Wiener estimator\n",
    "            coeff *= (minvar / (minvar + alpha))\n",
    "\n",
    "    rec = pywt.waverec2(decomp, wavelet)\n",
    "    rows, cols = X.shape\n",
    "    if X.shape != rec.shape:\n",
    "        rows_mod = rows % 2\n",
    "        cols_mod = cols % 2\n",
    "        return rec[rows_mod:, cols_mod:]\n",
    "    else:\n",
    "        return rec\n",
    "\n",
    "def dwt_noise(X, wavelet='db8', levels=4, alpha=2):\n",
    "    \"\"\"Denoise an image using the Discrete Wavelet Transform.\n",
    "    Parameters\n",
    "    ----------\n",
    "    X : ndarray of uint8\n",
    "        Image to denoise.\n",
    "    wavelet : str\n",
    "        Wavelet family to use.  See `supreme.lib.pywt.wavelist()` for a\n",
    "        complete list.\n",
    "    levels : int\n",
    "        Number of levels to use in the decomposition.\n",
    "    alpha : float\n",
    "        Parameter used to tweak the Wiener estimator.  A larger\n",
    "        value of `alpha` results in a smoother output.\n",
    "    Returns\n",
    "    -------\n",
    "    Y : ndarray of float64\n",
    "        Denoised image.\n",
    "    Notes\n",
    "    -----\n",
    "    Implemented according to the overview of [2]_ given in [1]_.\n",
    "    References\n",
    "    ----------\n",
    "    .. [1] J. Fridrich, \"Digital Image Forensics,\" IEEE Signal Processing\n",
    "           Magazine, vol. 26, 2009, pp. 26-37.\n",
    "    .. [2] M. Mihcak, I. Kozintsev, K. Ramchandran, and P. Moulin,\n",
    "           \"Low-complexity image denoising based on statistical\n",
    "           modeling of wavelet coefficients,\" IEEE Signal Processing\n",
    "           Letters, vol. 6, 1999, pp. 300-303.\n",
    "    \"\"\"\n",
    "    noise = np.zeros(X.shape, dtype=float)\n",
    "    if X.ndim == 3:\n",
    "        bands = X.shape[2]\n",
    "\n",
    "        for b in range(bands):\n",
    "            noise[:, :, b] = X[:, :, b] - _denoise_band(X[..., b], wavelet, levels, alpha)\n",
    "            mean = noise[:, :, b].mean()\n",
    "            noise[:, :, b] = list(map(lambda x: x - mean, noise[:, :, b]))\n",
    "#     else:\n",
    "#         out[:] = _denoise_band(X, wavelet, levels, alpha)\n",
    "#         MIN = out.min()\n",
    "#         MAX = out.max()\n",
    "#         out = list(map(lambda x: (x-MIN)*255/(MAX - MIN), out))\n",
    "    noise[:, :, 0] = 0.3*noise[:,:,0]\n",
    "    noise[:, :, 1] = 0.6*noise[:,:,1]\n",
    "    noise[:, :, 2] = 0.1*noise[:,:,2]\n",
    "\n",
    "    return noise"
   ]
  },
  {
   "cell_type": "code",
   "execution_count": 4,
   "metadata": {},
   "outputs": [],
   "source": [
    "def features_from_noise(noise, wavelet='db8'):\n",
    "    bands = noise.shape[2]\n",
    "    features = []\n",
    "    for b in range(bands):\n",
    "        decomp = pywt.wavedec2(noise[:,:,b], wavelet, level=1)\n",
    "        for i in range(3):\n",
    "            for j in range(1,10):\n",
    "                features.append(moment(decomp[1][i].reshape(-1,1),j)[0])\n",
    "    \n",
    "    return features"
   ]
  },
  {
   "cell_type": "code",
   "execution_count": 5,
   "metadata": {},
   "outputs": [],
   "source": [
    "def LBP(image,numPoints=24, radius=3):\n",
    "    eps=1e-7\n",
    "    lbp = local_binary_pattern(image, numPoints, radius, method=\"uniform\")\n",
    "    (hist, _) = np.histogram(lbp.ravel(), \\\n",
    "                                bins=np.arange(0, numPoints + 3), \\\n",
    "                                range=(0, numPoints + 2))\n",
    " \n",
    "    hist = hist.astype(\"float\")\n",
    "    hist /= (hist.sum() + eps)\n",
    " \n",
    "    return hist"
   ]
  },
  {
   "cell_type": "code",
   "execution_count": 6,
   "metadata": {},
   "outputs": [],
   "source": [
    "def label2num(vec, labels):\n",
    "    df = pd.DataFrame(vec,columns=['label'])\n",
    "    label_dict = {}\n",
    "    for i,label in enumerate(labels):\n",
    "        df.loc[df.label==label] = i\n",
    "        label_dict[str(i)] = label\n",
    "    return df.label.values, label_dict"
   ]
  },
  {
   "cell_type": "code",
   "execution_count": 7,
   "metadata": {},
   "outputs": [],
   "source": [
    "def num2label(label_num,label_dict):\n",
    "    label_num = label_num.astype(str)\n",
    "    for num in np.unique(label_num):\n",
    "        label_num[label_num==num] = label_dict[num]\n",
    "    return label_num"
   ]
  },
  {
   "cell_type": "code",
   "execution_count": 755,
   "metadata": {},
   "outputs": [],
   "source": [
    "def rec(cm):\n",
    "    rec = []\n",
    "    for i in range(cm.shape[0]):\n",
    "        p = cm[i,i]/sum(cm[i,:])\n",
    "        rec.append(p)\n",
    "    return np.array(rec)"
   ]
  },
  {
   "cell_type": "markdown",
   "metadata": {},
   "source": [
    "MODEL 1"
   ]
  },
  {
   "cell_type": "code",
   "execution_count": 553,
   "metadata": {},
   "outputs": [
    {
     "name": "stdout",
     "output_type": "stream",
     "text": [
      "Features extracted\n",
      "Elapsed time: 245 minutes and 42 seconds\n"
     ]
    }
   ],
   "source": [
    "tic = time.time()\n",
    "labels = []\n",
    "features_lbp = []\n",
    "features_noise = []\n",
    "for im in paths.list_images('data/train'):\n",
    "    image = cv2.imread(im)\n",
    "    image = cv2.cvtColor(image, cv2.COLOR_BGR2RGB)\n",
    "    c1 = int(image.shape[0]/2)\n",
    "    c2 = int(image.shape[1]/2)\n",
    "    crop = image[c1-256:c1+256,c2-256:c2+256]\n",
    "    \n",
    "    noise = dwt_noise(crop)\n",
    "\n",
    "    feats = features_from_noise(noise)\n",
    "    features_noise.append(feats)\n",
    "    \n",
    "    gray = cv2.cvtColor(image, cv2.COLOR_RGB2GRAY)\n",
    "    hist = LBP(gray)\n",
    "    features_lbp.append(hist)\n",
    "\n",
    "    labels.append(im.split(\"/\")[-2])\n",
    "\n",
    "\n",
    "toc = time.time()\n",
    "print('Features extracted')\n",
    "print('Elapsed time: %d minutes and %d seconds' % (int((toc-tic)/60),int((toc-tic)%60)))\n",
    "#     progress.value += 1"
   ]
  },
  {
   "cell_type": "code",
   "execution_count": 13,
   "metadata": {},
   "outputs": [],
   "source": [
    "labels_num, label_dict = label2num(labels,np.unique(labels))"
   ]
  },
  {
   "cell_type": "code",
   "execution_count": 14,
   "metadata": {},
   "outputs": [
    {
     "data": {
      "text/plain": [
       "{'0': 'HTC-1-M7',\n",
       " '1': 'LG-Nexus-5x',\n",
       " '2': 'Motorola-Droid-Maxx',\n",
       " '3': 'Motorola-Nexus-6',\n",
       " '4': 'Motorola-X',\n",
       " '5': 'Samsung-Galaxy-Note3',\n",
       " '6': 'Samsung-Galaxy-S4',\n",
       " '7': 'Sony-NEX-7',\n",
       " '8': 'iPhone-4s',\n",
       " '9': 'iPhone-6'}"
      ]
     },
     "execution_count": 14,
     "metadata": {},
     "output_type": "execute_result"
    }
   ],
   "source": [
    "label_dict"
   ]
  },
  {
   "cell_type": "code",
   "execution_count": 535,
   "metadata": {},
   "outputs": [
    {
     "name": "stdout",
     "output_type": "stream",
     "text": [
      "Features extracted\n",
      "Elapsed time: 17 minutes and 31 seconds\n"
     ]
    }
   ],
   "source": [
    "tic = time.time()\n",
    "fname = []\n",
    "features_lbp_test = []\n",
    "features_noise_test = []\n",
    "for im in paths.list_images('data/test'):\n",
    "    image = cv2.imread(im)\n",
    "    image = cv2.cvtColor(image, cv2.COLOR_BGR2RGB)\n",
    "\n",
    "    noise = dwt_noise(image)\n",
    "    \n",
    "    feats = features_from_noise(noise)\n",
    "    features_noise_test.append(feats)\n",
    "    \n",
    "    gray = cv2.cvtColor(image, cv2.COLOR_RGB2GRAY)\n",
    "    hist = LBP(gray)\n",
    "    features_lbp_test.append(hist)\n",
    "      \n",
    "    fname.append(im.split(\"/\")[-1])\n",
    "\n",
    "toc = time.time()\n",
    "print('Features extracted')\n",
    "print('Elapsed time: %d minutes and %d seconds' % (int((toc-tic)/60),int((toc-tic)%60)))"
   ]
  },
  {
   "cell_type": "code",
   "execution_count": 673,
   "metadata": {},
   "outputs": [],
   "source": [
    "sc = StandardScaler()\n",
    "all_feats_train = np.concatenate((np.array(features_lbp),np.array(features_noise)),axis=1)\n",
    "all_feats_train = sc.fit_transform(all_feats_train)"
   ]
  },
  {
   "cell_type": "code",
   "execution_count": 674,
   "metadata": {},
   "outputs": [],
   "source": [
    "all_feats_test = np.concatenate((np.array(features_lbp_test),np.array(features_noise_test)),axis=1)\n",
    "all_feats_test = sc.transform(all_feats_test)"
   ]
  },
  {
   "cell_type": "code",
   "execution_count": 675,
   "metadata": {},
   "outputs": [
    {
     "name": "stderr",
     "output_type": "stream",
     "text": [
      "/usr/local/lib/python3.5/dist-packages/sklearn/discriminant_analysis.py:388: UserWarning: Variables are collinear.\n",
      "  warnings.warn(\"Variables are collinear.\")\n"
     ]
    }
   ],
   "source": [
    "lda = LDA()\n",
    "x_train = lda.fit_transform(all_feats_train,labels_num)\n",
    "x_test = lda.transform(all_feats_test)"
   ]
  },
  {
   "cell_type": "code",
   "execution_count": 677,
   "metadata": {},
   "outputs": [
    {
     "name": "stderr",
     "output_type": "stream",
     "text": [
      "/usr/local/lib/python3.5/dist-packages/sklearn/linear_model/logistic.py:1228: UserWarning: 'n_jobs' > 1 does not have any effect when 'solver' is set to 'liblinear'. Got 'n_jobs' = -1.\n",
      "  \" = {}.\".format(self.n_jobs))\n"
     ]
    },
    {
     "name": "stdout",
     "output_type": "stream",
     "text": [
      "<class 'sklearn.linear_model.logistic.LogisticRegression'>\n",
      "Accuracy score: 0.9109\n",
      "-------------------------------------------------------------------------------\n",
      "<class 'sklearn.neighbors.classification.KNeighborsClassifier'>\n",
      "Accuracy score: 0.9291\n",
      "-------------------------------------------------------------------------------\n",
      "<class 'sklearn.neural_network.multilayer_perceptron.MLPClassifier'>\n",
      "Accuracy score: 0.9291\n",
      "-------------------------------------------------------------------------------\n"
     ]
    }
   ],
   "source": [
    "X_train, X_test, y_train, y_test = train_test_split(x_train, labels_num, test_size=0.2, random_state=42)\n",
    "lr = LogisticRegression(random_state=42,n_jobs=-1)\n",
    "knn = KNeighborsClassifier(n_jobs=-1)\n",
    "mlp = MLPClassifier(hidden_layer_sizes=(100,100),alpha=0.5,solver='sgd', learning_rate_init=0.1,max_iter=500,random_state=42)\n",
    "models = [lr, knn, mlp]\n",
    "y_pred = np.zeros((X_test.shape[0],3))\n",
    "for j,model in enumerate(models):\n",
    "        model.fit(X_train,y_train)\n",
    "        y_pred[:,j] = model.predict(X_test)\n",
    "        print(model.__class__)\n",
    "        print('Accuracy score: %.4f' % (accuracy_score(y_pred[:,j],y_test)))\n",
    "        print('-------------------------------------------------------------------------------')"
   ]
  },
  {
   "cell_type": "code",
   "execution_count": 678,
   "metadata": {},
   "outputs": [
    {
     "data": {
      "text/plain": [
       "array([[47,  0,  0,  0,  1,  0,  0,  0,  0,  0],\n",
       "       [ 0, 63,  0,  0,  0,  0,  0,  0,  0,  0],\n",
       "       [ 0,  1, 54,  1,  2,  0,  2,  2,  0,  2],\n",
       "       [ 0,  0,  0, 47,  2,  1,  1,  0,  0,  0],\n",
       "       [ 1,  0,  0,  0, 50,  0,  1,  0,  0,  1],\n",
       "       [ 1,  0,  0,  1,  4, 51,  0,  0,  0,  1],\n",
       "       [ 1,  1,  0,  0,  2,  2, 51,  1,  0,  0],\n",
       "       [ 0,  0,  2,  0,  0,  0,  0, 51,  0,  1],\n",
       "       [ 0,  0,  0,  1,  0,  0,  0,  0, 45,  1],\n",
       "       [ 0,  1,  0,  0,  0,  0,  0,  0,  1, 52]])"
      ]
     },
     "execution_count": 678,
     "metadata": {},
     "output_type": "execute_result"
    }
   ],
   "source": [
    "confusion_matrix(y_test,y_pred[:,2])"
   ]
  },
  {
   "cell_type": "code",
   "execution_count": 771,
   "metadata": {},
   "outputs": [
    {
     "data": {
      "text/plain": [
       "array([0.97916667, 1.        , 0.84375   , 0.92156863, 0.94339623,\n",
       "       0.87931034, 0.87931034, 0.94444444, 0.95744681, 0.96296296])"
      ]
     },
     "execution_count": 771,
     "metadata": {},
     "output_type": "execute_result"
    }
   ],
   "source": [
    "cm = np.array([[47,  0,  0,  0,  1,  0,  0,  0,  0,  0],\n",
    "       [ 0, 63,  0,  0,  0,  0,  0,  0,  0,  0],\n",
    "       [ 0,  1, 54,  1,  2,  0,  2,  2,  0,  2],\n",
    "       [ 0,  0,  0, 47,  2,  1,  1,  0,  0,  0],\n",
    "       [ 1,  0,  0,  0, 50,  0,  1,  0,  0,  1],\n",
    "       [ 1,  0,  0,  1,  4, 51,  0,  0,  0,  1],\n",
    "       [ 1,  1,  0,  0,  2,  2, 51,  1,  0,  0],\n",
    "       [ 0,  0,  2,  0,  0,  0,  0, 51,  0,  1],\n",
    "       [ 0,  0,  0,  1,  0,  0,  0,  0, 45,  1],\n",
    "       [ 0,  1,  0,  0,  0,  0,  0,  0,  1, 52]])\n",
    "rec(cm)"
   ]
  },
  {
   "cell_type": "code",
   "execution_count": 772,
   "metadata": {},
   "outputs": [
    {
     "data": {
      "image/png": "[encoded data removed]",
      "text/plain": [
       "<Figure size 1080x576 with 2 Axes>"
      ]
     },
     "metadata": {},
     "output_type": "display_data"
    }
   ],
   "source": [
    "fig, ax = plt.subplots()\n",
    "fig.set_size_inches(15, 8)\n",
    "sns.heatmap(cm,annot=True, fmt='d',cmap=\"YlGnBu\", ax=ax)\n",
    "plt.show()\n",
    "fig.savefig('graphs/cm_model1.png')"
   ]
  },
  {
   "cell_type": "code",
   "execution_count": 679,
   "metadata": {},
   "outputs": [],
   "source": [
    "mlp.fit(x_train,labels_num)\n",
    "y = mlp.predict(x_test)"
   ]
  },
  {
   "cell_type": "code",
   "execution_count": 680,
   "metadata": {},
   "outputs": [],
   "source": [
    "camera = num2label(y,label_dict)"
   ]
  },
  {
   "cell_type": "code",
   "execution_count": 681,
   "metadata": {},
   "outputs": [],
   "source": [
    "result = pd.DataFrame()\n",
    "result['fname'] = fname\n",
    "result['camera'] = camera"
   ]
  },
  {
   "cell_type": "code",
   "execution_count": 682,
   "metadata": {},
   "outputs": [],
   "source": [
    "result.to_csv('results/result_model1.csv', index=False)"
   ]
  },
  {
   "cell_type": "markdown",
   "metadata": {},
   "source": [
    "MODEL 2"
   ]
  },
  {
   "cell_type": "code",
   "execution_count": 696,
   "metadata": {},
   "outputs": [
    {
     "name": "stdout",
     "output_type": "stream",
     "text": [
      "Features extracted\n",
      "Elapsed time: 22 minutes and 58 seconds\n"
     ]
    }
   ],
   "source": [
    "tic = time.time()\n",
    "labels = []\n",
    "features_lbp = []\n",
    "features_noise = []\n",
    "for im in paths.list_images('data/train'):\n",
    "    image = cv2.imread(im)\n",
    "    image = cv2.cvtColor(image, cv2.COLOR_BGR2RGB)\n",
    "    c1 = int(image.shape[0]/2)\n",
    "    c2 = int(image.shape[1]/2)\n",
    "    crop = image[c1-256:c1+256,c2-256:c2+256]\n",
    "    \n",
    "    noise = dwt_noise(crop)\n",
    "\n",
    "    feats = features_from_noise(noise)\n",
    "    features_noise.append(feats)\n",
    "    \n",
    "    gray = cv2.cvtColor(crop, cv2.COLOR_RGB2GRAY)\n",
    "    hist = LBP(gray)\n",
    "    features_lbp.append(hist)\n",
    "   \n",
    "    labels.append(im.split(\"/\")[-2])\n",
    "\n",
    "toc = time.time()\n",
    "print('Features extracted')\n",
    "print('Elapsed time: %d minutes and %d seconds' % (int((toc-tic)/60),int((toc-tic)%60)))"
   ]
  },
  {
   "cell_type": "code",
   "execution_count": 697,
   "metadata": {},
   "outputs": [],
   "source": [
    "labels_num, label_dict = label2num(labels,np.unique(labels))"
   ]
  },
  {
   "cell_type": "code",
   "execution_count": 698,
   "metadata": {},
   "outputs": [
    {
     "name": "stdout",
     "output_type": "stream",
     "text": [
      "Features extracted\n",
      "Elapsed time: 15 minutes and 53 seconds\n"
     ]
    }
   ],
   "source": [
    "tic = time.time()\n",
    "fname = []\n",
    "features_lbp_test = []\n",
    "features_noise_test = []\n",
    "for im in paths.list_images('data/test'):\n",
    "    image = cv2.imread(im)\n",
    "    image = cv2.cvtColor(image, cv2.COLOR_BGR2RGB)\n",
    "\n",
    "    noise = dwt_noise(image)\n",
    "    \n",
    "    feats = features_from_noise(noise)\n",
    "    features_noise_test.append(feats)\n",
    "    \n",
    "    gray = cv2.cvtColor(image, cv2.COLOR_RGB2GRAY)\n",
    "    hist = LBP(gray)\n",
    "    features_lbp_test.append(hist)\n",
    "      \n",
    "    fname.append(im.split(\"/\")[-1])\n",
    "\n",
    "toc = time.time()\n",
    "print('Features extracted')\n",
    "print('Elapsed time: %d minutes and %d seconds' % (int((toc-tic)/60),int((toc-tic)%60)))"
   ]
  },
  {
   "cell_type": "code",
   "execution_count": 699,
   "metadata": {},
   "outputs": [],
   "source": [
    "sc = StandardScaler()\n",
    "all_feats_train = np.concatenate((np.array(features_lbp),np.array(features_noise)),axis=1)\n",
    "all_feats_train = sc.fit_transform(all_feats_train)"
   ]
  },
  {
   "cell_type": "code",
   "execution_count": 700,
   "metadata": {},
   "outputs": [],
   "source": [
    "all_feats_test = np.concatenate((np.array(features_lbp_test),np.array(features_noise_test)),axis=1)\n",
    "all_feats_test = sc.transform(all_feats_test)"
   ]
  },
  {
   "cell_type": "code",
   "execution_count": 701,
   "metadata": {},
   "outputs": [
    {
     "name": "stderr",
     "output_type": "stream",
     "text": [
      "/usr/local/lib/python3.5/dist-packages/sklearn/discriminant_analysis.py:388: UserWarning: Variables are collinear.\n",
      "  warnings.warn(\"Variables are collinear.\")\n"
     ]
    }
   ],
   "source": [
    "lda = LDA()\n",
    "x_train = lda.fit_transform(all_feats_train,labels_num)\n",
    "x_test = lda.transform(all_feats_test)"
   ]
  },
  {
   "cell_type": "code",
   "execution_count": 702,
   "metadata": {},
   "outputs": [
    {
     "name": "stderr",
     "output_type": "stream",
     "text": [
      "/usr/local/lib/python3.5/dist-packages/sklearn/linear_model/logistic.py:1228: UserWarning: 'n_jobs' > 1 does not have any effect when 'solver' is set to 'liblinear'. Got 'n_jobs' = -1.\n",
      "  \" = {}.\".format(self.n_jobs))\n"
     ]
    },
    {
     "name": "stdout",
     "output_type": "stream",
     "text": [
      "<class 'sklearn.linear_model.logistic.LogisticRegression'>\n",
      "Accuracy score: 0.7418\n",
      "-------------------------------------------------------------------------------\n",
      "<class 'sklearn.neighbors.classification.KNeighborsClassifier'>\n",
      "Accuracy score: 0.7582\n",
      "-------------------------------------------------------------------------------\n",
      "<class 'sklearn.neural_network.multilayer_perceptron.MLPClassifier'>\n",
      "Accuracy score: 0.7836\n",
      "-------------------------------------------------------------------------------\n"
     ]
    }
   ],
   "source": [
    "X_train, X_test, y_train, y_test = train_test_split(x_train, labels_num, test_size=0.2, random_state=42)\n",
    "lr = LogisticRegression(random_state=42,n_jobs=-1)\n",
    "knn = KNeighborsClassifier(n_jobs=-1)\n",
    "mlp = MLPClassifier(hidden_layer_sizes=(100,100),alpha=0.5,solver='sgd', learning_rate_init=0.1,max_iter=500,random_state=42)\n",
    "models = [lr, knn, mlp]\n",
    "y_pred = np.zeros((X_test.shape[0],3))\n",
    "for j,model in enumerate(models):\n",
    "        model.fit(X_train,y_train)\n",
    "        y_pred[:,j] = model.predict(X_test)\n",
    "        print(model.__class__)\n",
    "        print('Accuracy score: %.4f' % (accuracy_score(y_pred[:,j],y_test)))\n",
    "        print('-------------------------------------------------------------------------------')"
   ]
  },
  {
   "cell_type": "code",
   "execution_count": 703,
   "metadata": {},
   "outputs": [
    {
     "data": {
      "text/plain": [
       "array([[45,  0,  0,  0,  1,  2,  0,  0,  0,  0],\n",
       "       [ 4, 50,  0,  1,  2,  2,  3,  0,  0,  1],\n",
       "       [ 3,  2, 44,  1,  5,  2,  3,  1,  1,  2],\n",
       "       [ 1,  3,  1, 42,  0,  1,  0,  0,  2,  1],\n",
       "       [ 3,  7,  1,  3, 35,  0,  3,  0,  1,  0],\n",
       "       [ 1,  1,  1,  1,  2, 45,  1,  0,  2,  4],\n",
       "       [ 0,  3,  3,  3,  4,  2, 42,  0,  1,  0],\n",
       "       [ 2,  0,  4,  0,  0,  0,  1, 46,  0,  1],\n",
       "       [ 0,  0,  1,  0,  1,  0,  1,  0, 44,  0],\n",
       "       [ 0,  4,  3,  0,  1,  2,  2,  1,  3, 38]])"
      ]
     },
     "execution_count": 703,
     "metadata": {},
     "output_type": "execute_result"
    }
   ],
   "source": [
    "confusion_matrix(y_test,y_pred[:,2])"
   ]
  },
  {
   "cell_type": "code",
   "execution_count": 773,
   "metadata": {},
   "outputs": [
    {
     "data": {
      "text/plain": [
       "array([0.9375    , 0.79365079, 0.6875    , 0.82352941, 0.66037736,\n",
       "       0.77586207, 0.72413793, 0.85185185, 0.93617021, 0.7037037 ])"
      ]
     },
     "execution_count": 773,
     "metadata": {},
     "output_type": "execute_result"
    }
   ],
   "source": [
    "cm = np.array([[45,  0,  0,  0,  1,  2,  0,  0,  0,  0],\n",
    "       [ 4, 50,  0,  1,  2,  2,  3,  0,  0,  1],\n",
    "       [ 3,  2, 44,  1,  5,  2,  3,  1,  1,  2],\n",
    "       [ 1,  3,  1, 42,  0,  1,  0,  0,  2,  1],\n",
    "       [ 3,  7,  1,  3, 35,  0,  3,  0,  1,  0],\n",
    "       [ 1,  1,  1,  1,  2, 45,  1,  0,  2,  4],\n",
    "       [ 0,  3,  3,  3,  4,  2, 42,  0,  1,  0],\n",
    "       [ 2,  0,  4,  0,  0,  0,  1, 46,  0,  1],\n",
    "       [ 0,  0,  1,  0,  1,  0,  1,  0, 44,  0],\n",
    "       [ 0,  4,  3,  0,  1,  2,  2,  1,  3, 38]])\n",
    "rec(cm)"
   ]
  },
  {
   "cell_type": "code",
   "execution_count": 774,
   "metadata": {},
   "outputs": [
    {
     "data": {
      "image/png": "[encoded data removed]",
      "text/plain": [
       "<Figure size 1080x576 with 2 Axes>"
      ]
     },
     "metadata": {},
     "output_type": "display_data"
    }
   ],
   "source": [
    "fig, ax = plt.subplots()\n",
    "fig.set_size_inches(15, 8)\n",
    "sns.heatmap(cm,annot=True, fmt='d',cmap=\"YlGnBu\", ax=ax)\n",
    "plt.show()\n",
    "fig.savefig('graphs/cm_model2.png')"
   ]
  },
  {
   "cell_type": "code",
   "execution_count": 704,
   "metadata": {},
   "outputs": [],
   "source": [
    "mlp.fit(x_train,labels_num)\n",
    "y = mlp.predict(x_test)"
   ]
  },
  {
   "cell_type": "code",
   "execution_count": 705,
   "metadata": {},
   "outputs": [],
   "source": [
    "camera = num2label(y,label_dict)"
   ]
  },
  {
   "cell_type": "code",
   "execution_count": 706,
   "metadata": {},
   "outputs": [],
   "source": [
    "result = pd.DataFrame()\n",
    "result['fname'] = fname\n",
    "result['camera'] = camera"
   ]
  },
  {
   "cell_type": "code",
   "execution_count": 707,
   "metadata": {},
   "outputs": [],
   "source": [
    "result.to_csv('results/result_model2.csv', index=False)"
   ]
  },
  {
   "cell_type": "markdown",
   "metadata": {},
   "source": [
    "MODEL 3"
   ]
  },
  {
   "cell_type": "code",
   "execution_count": 708,
   "metadata": {},
   "outputs": [
    {
     "name": "stdout",
     "output_type": "stream",
     "text": [
      "Features extracted\n",
      "Elapsed time: 27 minutes and 36 seconds\n"
     ]
    }
   ],
   "source": [
    "tic = time.time()\n",
    "labels = []\n",
    "features_lbp = []\n",
    "features_noise = []\n",
    "features_altered = []\n",
    "for im in paths.list_images('data/train'):\n",
    "    image = cv2.imread(im)\n",
    "    image = cv2.cvtColor(image, cv2.COLOR_BGR2RGB)\n",
    "    \n",
    "    altered, image = random_alter(image)\n",
    "    features_altered.append(altered)\n",
    "    \n",
    "    c1 = int(image.shape[0]/2)\n",
    "    c2 = int(image.shape[1]/2)\n",
    "    crop = image[c1-256:c1+256,c2-256:c2+256]\n",
    "    \n",
    "    noise = dwt_noise(crop)\n",
    "       \n",
    "    feats = features_from_noise(noise)\n",
    "    features_noise.append(feats)\n",
    "    \n",
    "    gray = cv2.cvtColor(crop, cv2.COLOR_RGB2GRAY)\n",
    "    hist = LBP(gray)\n",
    "    features_lbp.append(hist)\n",
    "    \n",
    "    labels.append(im.split(\"/\")[-2])\n",
    "\n",
    "toc = time.time()\n",
    "print('Features extracted')\n",
    "print('Elapsed time: %d minutes and %d seconds' % (int((toc-tic)/60),int((toc-tic)%60)))"
   ]
  },
  {
   "cell_type": "code",
   "execution_count": 709,
   "metadata": {},
   "outputs": [],
   "source": [
    "labels_num, label_dict = label2num(labels,np.unique(labels))"
   ]
  },
  {
   "cell_type": "code",
   "execution_count": 698,
   "metadata": {},
   "outputs": [
    {
     "name": "stdout",
     "output_type": "stream",
     "text": [
      "Features extracted\n",
      "Elapsed time: 15 minutes and 53 seconds\n"
     ]
    }
   ],
   "source": [
    "tic = time.time()\n",
    "fname = []\n",
    "features_lbp_test = []\n",
    "features_noise_test = []\n",
    "features_altered_test = []\n",
    "for im in paths.list_images('data/test'):\n",
    "    image = cv2.imread(im)\n",
    "    image = cv2.cvtColor(image, cv2.COLOR_BGR2RGB)\n",
    "\n",
    "    noise = dwt_noise(image)\n",
    "    \n",
    "    feats = features_from_noise(noise)\n",
    "    features_noise_test.append(feats)\n",
    "    \n",
    "    gray = cv2.cvtColor(image, cv2.COLOR_RGB2GRAY)\n",
    "    hist = LBP(gray)\n",
    "    features_lbp_test.append(hist)\n",
    "      \n",
    "    fname.append(im.split(\"/\")[-1])\n",
    "\n",
    "toc = time.time()\n",
    "print('Features extracted')\n",
    "print('Elapsed time: %d minutes and %d seconds' % (int((toc-tic)/60),int((toc-tic)%60)))"
   ]
  },
  {
   "cell_type": "code",
   "execution_count": 710,
   "metadata": {},
   "outputs": [],
   "source": [
    "features_altered_test = []\n",
    "for name in fname:\n",
    "    if name.split('_')[2] == 'manip.tif':\n",
    "        features_altered_test.append(1)\n",
    "    else:\n",
    "        features_altered_test.append(0)"
   ]
  },
  {
   "cell_type": "code",
   "execution_count": 739,
   "metadata": {},
   "outputs": [],
   "source": [
    "sc = StandardScaler()\n",
    "all_feats_train = np.concatenate((np.array(features_lbp),np.array(features_noise)),axis=1)\n",
    "all_feats_train = sc.fit_transform(all_feats_train)"
   ]
  },
  {
   "cell_type": "code",
   "execution_count": 740,
   "metadata": {},
   "outputs": [],
   "source": [
    "all_feats_test = np.concatenate((np.array(features_lbp_test),np.array(features_noise_test)),axis=1)\n",
    "all_feats_test = sc.transform(all_feats_test)"
   ]
  },
  {
   "cell_type": "code",
   "execution_count": 741,
   "metadata": {},
   "outputs": [
    {
     "name": "stderr",
     "output_type": "stream",
     "text": [
      "/usr/local/lib/python3.5/dist-packages/sklearn/discriminant_analysis.py:388: UserWarning: Variables are collinear.\n",
      "  warnings.warn(\"Variables are collinear.\")\n"
     ]
    }
   ],
   "source": [
    "lda = LDA()\n",
    "x_train = lda.fit_transform(all_feats_train,labels_num)\n",
    "x_test = lda.transform(all_feats_test)"
   ]
  },
  {
   "cell_type": "code",
   "execution_count": 742,
   "metadata": {},
   "outputs": [],
   "source": [
    "x_train = np.concatenate((x_train,np.array(features_altered).reshape(-1,1)),axis=1)\n",
    "x_test = np.concatenate((x_test,np.array(features_altered_test).reshape(-1,1)),axis=1)"
   ]
  },
  {
   "cell_type": "code",
   "execution_count": 743,
   "metadata": {},
   "outputs": [
    {
     "name": "stderr",
     "output_type": "stream",
     "text": [
      "/usr/local/lib/python3.5/dist-packages/sklearn/linear_model/logistic.py:1228: UserWarning: 'n_jobs' > 1 does not have any effect when 'solver' is set to 'liblinear'. Got 'n_jobs' = -1.\n",
      "  \" = {}.\".format(self.n_jobs))\n"
     ]
    },
    {
     "name": "stdout",
     "output_type": "stream",
     "text": [
      "<class 'sklearn.linear_model.logistic.LogisticRegression'>\n",
      "Accuracy score: 0.4891\n",
      "-------------------------------------------------------------------------------\n",
      "<class 'sklearn.neighbors.classification.KNeighborsClassifier'>\n",
      "Accuracy score: 0.4364\n",
      "-------------------------------------------------------------------------------\n",
      "<class 'sklearn.neural_network.multilayer_perceptron.MLPClassifier'>\n",
      "Accuracy score: 0.5036\n",
      "-------------------------------------------------------------------------------\n"
     ]
    }
   ],
   "source": [
    "X_train, X_test, y_train, y_test = train_test_split(x_train, labels_num, test_size=0.2, random_state=42)\n",
    "lr = LogisticRegression(random_state=42,n_jobs=-1)\n",
    "knn = KNeighborsClassifier(n_jobs=-1)\n",
    "mlp = MLPClassifier(hidden_layer_sizes=(100,100),alpha=0.5,solver='sgd', learning_rate_init=0.1,max_iter=500,random_state=42)\n",
    "models = [lr, knn, mlp]\n",
    "y_pred = np.zeros((X_test.shape[0],3))\n",
    "for j,model in enumerate(models):\n",
    "        model.fit(X_train,y_train)\n",
    "        y_pred[:,j] = model.predict(X_test)\n",
    "        print(model.__class__)\n",
    "        print('Accuracy score: %.4f' % (accuracy_score(y_pred[:,j],y_test)))\n",
    "        print('-------------------------------------------------------------------------------')"
   ]
  },
  {
   "cell_type": "code",
   "execution_count": 744,
   "metadata": {},
   "outputs": [
    {
     "data": {
      "text/plain": [
       "array([[23,  1,  2,  3,  1,  2,  4,  4,  6,  2],\n",
       "       [ 4, 30,  5,  4,  2,  2,  4,  4,  2,  6],\n",
       "       [ 3,  5, 30,  0,  7,  1,  7,  2,  7,  2],\n",
       "       [ 2,  2,  4, 32,  2,  4,  3,  0,  0,  2],\n",
       "       [ 2,  1,  4,  7, 20,  4,  6,  4,  5,  0],\n",
       "       [ 0,  5,  1,  7,  5, 27,  4,  1,  4,  4],\n",
       "       [ 1,  1,  5,  6,  5,  3, 22,  3,  7,  5],\n",
       "       [ 3,  1,  6,  0,  1,  0,  2, 39,  0,  2],\n",
       "       [ 2,  1,  4,  3,  1,  1,  6,  0, 25,  4],\n",
       "       [ 7,  2,  0,  2,  0,  5,  3,  1,  5, 29]])"
      ]
     },
     "execution_count": 744,
     "metadata": {},
     "output_type": "execute_result"
    }
   ],
   "source": [
    "confusion_matrix(y_test,y_pred[:,2])"
   ]
  },
  {
   "cell_type": "code",
   "execution_count": 775,
   "metadata": {},
   "outputs": [
    {
     "data": {
      "text/plain": [
       "array([0.47916667, 0.47619048, 0.46875   , 0.62745098, 0.37735849,\n",
       "       0.46551724, 0.37931034, 0.72222222, 0.53191489, 0.53703704])"
      ]
     },
     "execution_count": 775,
     "metadata": {},
     "output_type": "execute_result"
    }
   ],
   "source": [
    "cm = np.array([[23,  1,  2,  3,  1,  2,  4,  4,  6,  2],\n",
    "       [ 4, 30,  5,  4,  2,  2,  4,  4,  2,  6],\n",
    "       [ 3,  5, 30,  0,  7,  1,  7,  2,  7,  2],\n",
    "       [ 2,  2,  4, 32,  2,  4,  3,  0,  0,  2],\n",
    "       [ 2,  1,  4,  7, 20,  4,  6,  4,  5,  0],\n",
    "       [ 0,  5,  1,  7,  5, 27,  4,  1,  4,  4],\n",
    "       [ 1,  1,  5,  6,  5,  3, 22,  3,  7,  5],\n",
    "       [ 3,  1,  6,  0,  1,  0,  2, 39,  0,  2],\n",
    "       [ 2,  1,  4,  3,  1,  1,  6,  0, 25,  4],\n",
    "       [ 7,  2,  0,  2,  0,  5,  3,  1,  5, 29]])\n",
    "rec(cm)"
   ]
  },
  {
   "cell_type": "code",
   "execution_count": 776,
   "metadata": {},
   "outputs": [
    {
     "data": {
      "image/png": "[encoded data removed]",
      "text/plain": [
       "<Figure size 1080x576 with 2 Axes>"
      ]
     },
     "metadata": {},
     "output_type": "display_data"
    }
   ],
   "source": [
    "fig, ax = plt.subplots()\n",
    "fig.set_size_inches(15, 8)\n",
    "sns.heatmap(cm,annot=True, fmt='d',cmap=\"YlGnBu\", ax=ax)\n",
    "plt.show()\n",
    "fig.savefig('graphs/cm_model3.png')"
   ]
  },
  {
   "cell_type": "code",
   "execution_count": 745,
   "metadata": {},
   "outputs": [],
   "source": [
    "mlp.fit(x_train,labels_num)\n",
    "y = mlp.predict(x_test)"
   ]
  },
  {
   "cell_type": "code",
   "execution_count": 746,
   "metadata": {},
   "outputs": [],
   "source": [
    "camera = num2label(y,label_dict)"
   ]
  },
  {
   "cell_type": "code",
   "execution_count": 747,
   "metadata": {},
   "outputs": [],
   "source": [
    "result = pd.DataFrame()\n",
    "result['fname'] = fname\n",
    "result['camera'] = camera"
   ]
  },
  {
   "cell_type": "code",
   "execution_count": 748,
   "metadata": {},
   "outputs": [],
   "source": [
    "result.to_csv('results/result_model3.csv', index=False)"
   ]
  },
  {
   "cell_type": "code",
   "execution_count": 779,
   "metadata": {},
   "outputs": [
    {
     "data": {
      "text/plain": [
       "(2640, 10)"
      ]
     },
     "execution_count": 779,
     "metadata": {},
     "output_type": "execute_result"
    }
   ],
   "source": [
    "x_test.shape"
   ]
  },
  {
   "cell_type": "code",
   "execution_count": null,
   "metadata": {},
   "outputs": [],
   "source": []
  }
 ],
 "metadata": {
  "kernelspec": {
   "display_name": "Python 3",
   "language": "python",
   "name": "python3"
  },
  "language_info": {
   "codemirror_mode": {
    "name": "ipython",
    "version": 3
   },
   "file_extension": ".py",
   "mimetype": "text/x-python",
   "name": "python",
   "nbconvert_exporter": "python",
   "pygments_lexer": "ipython3",
   "version": "3.5.2"
  }
 },
 "nbformat": 4,
 "nbformat_minor": 2
}
